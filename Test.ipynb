{
  "nbformat": 4,
  "nbformat_minor": 0,
  "metadata": {
    "colab": {
      "provenance": []
    },
    "kernelspec": {
      "name": "python3",
      "display_name": "Python 3"
    },
    "language_info": {
      "name": "python"
    }
  },
  "cells": [
    {
      "cell_type": "markdown",
      "source": [
        "# Macro Data Scientist Internship Process Test\n",
        "\n",
        "Séries da Inflação dos EUA (CPI) do BLS (Bureau of Labor Statistics) obtida via API através do site: https://www.bls.gov/"
      ],
      "metadata": {
        "id": "xAS629QIz5mQ"
      }
    },
    {
      "cell_type": "markdown",
      "source": [
        "### Question 1"
      ],
      "metadata": {
        "id": "xz4QSsN3z2K8"
      }
    },
    {
      "cell_type": "code",
      "execution_count": 1,
      "metadata": {
        "id": "roz52QkJ88D-",
        "colab": {
          "base_uri": "https://localhost:8080/"
        },
        "outputId": "82f6c14d-d13f-4778-e33e-940edcdb0b86"
      },
      "outputs": [
        {
          "output_type": "stream",
          "name": "stdout",
          "text": [
            "Dados salvos com sucesso em 'cpi_data.csv'.\n"
          ]
        }
      ],
      "source": [
        "import requests\n",
        "import json\n",
        "import pandas as pd\n",
        "import prettytable\n",
        "\n",
        "# Configuração da API\n",
        "headers = {\"Content-type\": \"application/json\"}\n",
        "data = json.dumps({\n",
        "    \"seriesid\": [\"SUUR0000SA0\", \"SUUR0000SA0L1E\", \"CUSR0000SETB01\"],\n",
        "    \"startyear\": \"2019\",\n",
        "    \"endyear\": \"2024\"\n",
        "})\n",
        "\n",
        "# Fazer a requisição para a API\n",
        "response = requests.post(\"https://api.bls.gov/publicAPI/v2/timeseries/data/\", data=data, headers=headers)\n",
        "json_data = json.loads(response.text)\n",
        "\n",
        "# Processar os dados retornados\n",
        "data_frames = {}\n",
        "for series in json_data[\"Results\"][\"series\"]:\n",
        "    series_id = series[\"seriesID\"]\n",
        "    series_data = []\n",
        "    for item in series[\"data\"]:\n",
        "        year = item[\"year\"]\n",
        "        period = item[\"period\"]\n",
        "        value = float(item[\"value\"])\n",
        "        if \"M01\" <= period <= \"M12\":\n",
        "            date = f\"{year}-{period[1:]}\"\n",
        "            series_data.append({\"date\": date, series_id: value})\n",
        "    data_frames[series_id] = pd.DataFrame(series_data).set_index(\"date\")\n",
        "# Concatenar os dados em um único DataFrame\n",
        "final_df = pd.concat(data_frames.values(), axis=1)\n",
        "\n",
        "# Salvar em um arquivo CSV\n",
        "final_df.to_csv(\"cpi_data.csv\")\n",
        "\n",
        "print(\"Dados salvos com sucesso em 'cpi_data.csv'.\")\n"
      ]
    },
    {
      "cell_type": "code",
      "source": [
        "table = pd.read_csv(\"cpi_data.csv\")\n",
        "\n",
        "table.head()"
      ],
      "metadata": {
        "colab": {
          "base_uri": "https://localhost:8080/",
          "height": 206
        },
        "id": "WkV1PIOAxvoI",
        "outputId": "4c569083-5167-4fc4-aa69-ff8d2c3c5547"
      },
      "execution_count": 2,
      "outputs": [
        {
          "output_type": "execute_result",
          "data": {
            "text/plain": [
              "      date  SUUR0000SA0  SUUR0000SA0L1E  CUSR0000SETB01\n",
              "0  2024-06      175.128         166.165         294.968\n",
              "1  2024-05      175.123         166.000         306.599\n",
              "2  2024-04      174.868         165.694         318.186\n",
              "3  2024-03      174.190         165.257         309.587\n",
              "4  2024-02      173.045         164.409         304.302"
            ],
            "text/html": [
              "\n",
              "  <div id=\"df-2a180ac3-da70-45c5-8863-39c16eedf9b6\" class=\"colab-df-container\">\n",
              "    <div>\n",
              "<style scoped>\n",
              "    .dataframe tbody tr th:only-of-type {\n",
              "        vertical-align: middle;\n",
              "    }\n",
              "\n",
              "    .dataframe tbody tr th {\n",
              "        vertical-align: top;\n",
              "    }\n",
              "\n",
              "    .dataframe thead th {\n",
              "        text-align: right;\n",
              "    }\n",
              "</style>\n",
              "<table border=\"1\" class=\"dataframe\">\n",
              "  <thead>\n",
              "    <tr style=\"text-align: right;\">\n",
              "      <th></th>\n",
              "      <th>date</th>\n",
              "      <th>SUUR0000SA0</th>\n",
              "      <th>SUUR0000SA0L1E</th>\n",
              "      <th>CUSR0000SETB01</th>\n",
              "    </tr>\n",
              "  </thead>\n",
              "  <tbody>\n",
              "    <tr>\n",
              "      <th>0</th>\n",
              "      <td>2024-06</td>\n",
              "      <td>175.128</td>\n",
              "      <td>166.165</td>\n",
              "      <td>294.968</td>\n",
              "    </tr>\n",
              "    <tr>\n",
              "      <th>1</th>\n",
              "      <td>2024-05</td>\n",
              "      <td>175.123</td>\n",
              "      <td>166.000</td>\n",
              "      <td>306.599</td>\n",
              "    </tr>\n",
              "    <tr>\n",
              "      <th>2</th>\n",
              "      <td>2024-04</td>\n",
              "      <td>174.868</td>\n",
              "      <td>165.694</td>\n",
              "      <td>318.186</td>\n",
              "    </tr>\n",
              "    <tr>\n",
              "      <th>3</th>\n",
              "      <td>2024-03</td>\n",
              "      <td>174.190</td>\n",
              "      <td>165.257</td>\n",
              "      <td>309.587</td>\n",
              "    </tr>\n",
              "    <tr>\n",
              "      <th>4</th>\n",
              "      <td>2024-02</td>\n",
              "      <td>173.045</td>\n",
              "      <td>164.409</td>\n",
              "      <td>304.302</td>\n",
              "    </tr>\n",
              "  </tbody>\n",
              "</table>\n",
              "</div>\n",
              "    <div class=\"colab-df-buttons\">\n",
              "\n",
              "  <div class=\"colab-df-container\">\n",
              "    <button class=\"colab-df-convert\" onclick=\"convertToInteractive('df-2a180ac3-da70-45c5-8863-39c16eedf9b6')\"\n",
              "            title=\"Convert this dataframe to an interactive table.\"\n",
              "            style=\"display:none;\">\n",
              "\n",
              "  <svg xmlns=\"http://www.w3.org/2000/svg\" height=\"24px\" viewBox=\"0 -960 960 960\">\n",
              "    <path d=\"M120-120v-720h720v720H120Zm60-500h600v-160H180v160Zm220 220h160v-160H400v160Zm0 220h160v-160H400v160ZM180-400h160v-160H180v160Zm440 0h160v-160H620v160ZM180-180h160v-160H180v160Zm440 0h160v-160H620v160Z\"/>\n",
              "  </svg>\n",
              "    </button>\n",
              "\n",
              "  <style>\n",
              "    .colab-df-container {\n",
              "      display:flex;\n",
              "      gap: 12px;\n",
              "    }\n",
              "\n",
              "    .colab-df-convert {\n",
              "      background-color: #E8F0FE;\n",
              "      border: none;\n",
              "      border-radius: 50%;\n",
              "      cursor: pointer;\n",
              "      display: none;\n",
              "      fill: #1967D2;\n",
              "      height: 32px;\n",
              "      padding: 0 0 0 0;\n",
              "      width: 32px;\n",
              "    }\n",
              "\n",
              "    .colab-df-convert:hover {\n",
              "      background-color: #E2EBFA;\n",
              "      box-shadow: 0px 1px 2px rgba(60, 64, 67, 0.3), 0px 1px 3px 1px rgba(60, 64, 67, 0.15);\n",
              "      fill: #174EA6;\n",
              "    }\n",
              "\n",
              "    .colab-df-buttons div {\n",
              "      margin-bottom: 4px;\n",
              "    }\n",
              "\n",
              "    [theme=dark] .colab-df-convert {\n",
              "      background-color: #3B4455;\n",
              "      fill: #D2E3FC;\n",
              "    }\n",
              "\n",
              "    [theme=dark] .colab-df-convert:hover {\n",
              "      background-color: #434B5C;\n",
              "      box-shadow: 0px 1px 3px 1px rgba(0, 0, 0, 0.15);\n",
              "      filter: drop-shadow(0px 1px 2px rgba(0, 0, 0, 0.3));\n",
              "      fill: #FFFFFF;\n",
              "    }\n",
              "  </style>\n",
              "\n",
              "    <script>\n",
              "      const buttonEl =\n",
              "        document.querySelector('#df-2a180ac3-da70-45c5-8863-39c16eedf9b6 button.colab-df-convert');\n",
              "      buttonEl.style.display =\n",
              "        google.colab.kernel.accessAllowed ? 'block' : 'none';\n",
              "\n",
              "      async function convertToInteractive(key) {\n",
              "        const element = document.querySelector('#df-2a180ac3-da70-45c5-8863-39c16eedf9b6');\n",
              "        const dataTable =\n",
              "          await google.colab.kernel.invokeFunction('convertToInteractive',\n",
              "                                                    [key], {});\n",
              "        if (!dataTable) return;\n",
              "\n",
              "        const docLinkHtml = 'Like what you see? Visit the ' +\n",
              "          '<a target=\"_blank\" href=https://colab.research.google.com/notebooks/data_table.ipynb>data table notebook</a>'\n",
              "          + ' to learn more about interactive tables.';\n",
              "        element.innerHTML = '';\n",
              "        dataTable['output_type'] = 'display_data';\n",
              "        await google.colab.output.renderOutput(dataTable, element);\n",
              "        const docLink = document.createElement('div');\n",
              "        docLink.innerHTML = docLinkHtml;\n",
              "        element.appendChild(docLink);\n",
              "      }\n",
              "    </script>\n",
              "  </div>\n",
              "\n",
              "\n",
              "<div id=\"df-59814b80-716c-4b92-af23-9d42ca20e694\">\n",
              "  <button class=\"colab-df-quickchart\" onclick=\"quickchart('df-59814b80-716c-4b92-af23-9d42ca20e694')\"\n",
              "            title=\"Suggest charts\"\n",
              "            style=\"display:none;\">\n",
              "\n",
              "<svg xmlns=\"http://www.w3.org/2000/svg\" height=\"24px\"viewBox=\"0 0 24 24\"\n",
              "     width=\"24px\">\n",
              "    <g>\n",
              "        <path d=\"M19 3H5c-1.1 0-2 .9-2 2v14c0 1.1.9 2 2 2h14c1.1 0 2-.9 2-2V5c0-1.1-.9-2-2-2zM9 17H7v-7h2v7zm4 0h-2V7h2v10zm4 0h-2v-4h2v4z\"/>\n",
              "    </g>\n",
              "</svg>\n",
              "  </button>\n",
              "\n",
              "<style>\n",
              "  .colab-df-quickchart {\n",
              "      --bg-color: #E8F0FE;\n",
              "      --fill-color: #1967D2;\n",
              "      --hover-bg-color: #E2EBFA;\n",
              "      --hover-fill-color: #174EA6;\n",
              "      --disabled-fill-color: #AAA;\n",
              "      --disabled-bg-color: #DDD;\n",
              "  }\n",
              "\n",
              "  [theme=dark] .colab-df-quickchart {\n",
              "      --bg-color: #3B4455;\n",
              "      --fill-color: #D2E3FC;\n",
              "      --hover-bg-color: #434B5C;\n",
              "      --hover-fill-color: #FFFFFF;\n",
              "      --disabled-bg-color: #3B4455;\n",
              "      --disabled-fill-color: #666;\n",
              "  }\n",
              "\n",
              "  .colab-df-quickchart {\n",
              "    background-color: var(--bg-color);\n",
              "    border: none;\n",
              "    border-radius: 50%;\n",
              "    cursor: pointer;\n",
              "    display: none;\n",
              "    fill: var(--fill-color);\n",
              "    height: 32px;\n",
              "    padding: 0;\n",
              "    width: 32px;\n",
              "  }\n",
              "\n",
              "  .colab-df-quickchart:hover {\n",
              "    background-color: var(--hover-bg-color);\n",
              "    box-shadow: 0 1px 2px rgba(60, 64, 67, 0.3), 0 1px 3px 1px rgba(60, 64, 67, 0.15);\n",
              "    fill: var(--button-hover-fill-color);\n",
              "  }\n",
              "\n",
              "  .colab-df-quickchart-complete:disabled,\n",
              "  .colab-df-quickchart-complete:disabled:hover {\n",
              "    background-color: var(--disabled-bg-color);\n",
              "    fill: var(--disabled-fill-color);\n",
              "    box-shadow: none;\n",
              "  }\n",
              "\n",
              "  .colab-df-spinner {\n",
              "    border: 2px solid var(--fill-color);\n",
              "    border-color: transparent;\n",
              "    border-bottom-color: var(--fill-color);\n",
              "    animation:\n",
              "      spin 1s steps(1) infinite;\n",
              "  }\n",
              "\n",
              "  @keyframes spin {\n",
              "    0% {\n",
              "      border-color: transparent;\n",
              "      border-bottom-color: var(--fill-color);\n",
              "      border-left-color: var(--fill-color);\n",
              "    }\n",
              "    20% {\n",
              "      border-color: transparent;\n",
              "      border-left-color: var(--fill-color);\n",
              "      border-top-color: var(--fill-color);\n",
              "    }\n",
              "    30% {\n",
              "      border-color: transparent;\n",
              "      border-left-color: var(--fill-color);\n",
              "      border-top-color: var(--fill-color);\n",
              "      border-right-color: var(--fill-color);\n",
              "    }\n",
              "    40% {\n",
              "      border-color: transparent;\n",
              "      border-right-color: var(--fill-color);\n",
              "      border-top-color: var(--fill-color);\n",
              "    }\n",
              "    60% {\n",
              "      border-color: transparent;\n",
              "      border-right-color: var(--fill-color);\n",
              "    }\n",
              "    80% {\n",
              "      border-color: transparent;\n",
              "      border-right-color: var(--fill-color);\n",
              "      border-bottom-color: var(--fill-color);\n",
              "    }\n",
              "    90% {\n",
              "      border-color: transparent;\n",
              "      border-bottom-color: var(--fill-color);\n",
              "    }\n",
              "  }\n",
              "</style>\n",
              "\n",
              "  <script>\n",
              "    async function quickchart(key) {\n",
              "      const quickchartButtonEl =\n",
              "        document.querySelector('#' + key + ' button');\n",
              "      quickchartButtonEl.disabled = true;  // To prevent multiple clicks.\n",
              "      quickchartButtonEl.classList.add('colab-df-spinner');\n",
              "      try {\n",
              "        const charts = await google.colab.kernel.invokeFunction(\n",
              "            'suggestCharts', [key], {});\n",
              "      } catch (error) {\n",
              "        console.error('Error during call to suggestCharts:', error);\n",
              "      }\n",
              "      quickchartButtonEl.classList.remove('colab-df-spinner');\n",
              "      quickchartButtonEl.classList.add('colab-df-quickchart-complete');\n",
              "    }\n",
              "    (() => {\n",
              "      let quickchartButtonEl =\n",
              "        document.querySelector('#df-59814b80-716c-4b92-af23-9d42ca20e694 button');\n",
              "      quickchartButtonEl.style.display =\n",
              "        google.colab.kernel.accessAllowed ? 'block' : 'none';\n",
              "    })();\n",
              "  </script>\n",
              "</div>\n",
              "\n",
              "    </div>\n",
              "  </div>\n"
            ],
            "application/vnd.google.colaboratory.intrinsic+json": {
              "type": "dataframe",
              "variable_name": "table",
              "summary": "{\n  \"name\": \"table\",\n  \"rows\": 66,\n  \"fields\": [\n    {\n      \"column\": \"date\",\n      \"properties\": {\n        \"dtype\": \"object\",\n        \"num_unique_values\": 66,\n        \"samples\": [\n          \"2019-12\",\n          \"2019-04\",\n          \"2024-06\"\n        ],\n        \"semantic_type\": \"\",\n        \"description\": \"\"\n      }\n    },\n    {\n      \"column\": \"SUUR0000SA0\",\n      \"properties\": {\n        \"dtype\": \"number\",\n        \"std\": 11.463667379807903,\n        \"min\": 142.001,\n        \"max\": 175.128,\n        \"num_unique_values\": 66,\n        \"samples\": [\n          144.251,\n          143.926,\n          175.128\n        ],\n        \"semantic_type\": \"\",\n        \"description\": \"\"\n      }\n    },\n    {\n      \"column\": \"SUUR0000SA0L1E\",\n      \"properties\": {\n        \"dtype\": \"number\",\n        \"std\": 9.585829873120547,\n        \"min\": 137.391,\n        \"max\": 166.165,\n        \"num_unique_values\": 66,\n        \"samples\": [\n          139.15,\n          138.433,\n          166.165\n        ],\n        \"semantic_type\": \"\",\n        \"description\": \"\"\n      }\n    },\n    {\n      \"column\": \"CUSR0000SETB01\",\n      \"properties\": {\n        \"dtype\": \"number\",\n        \"std\": 57.06203789192502,\n        \"min\": 160.74,\n        \"max\": 411.984,\n        \"num_unique_values\": 66,\n        \"samples\": [\n          244.197,\n          245.651,\n          294.968\n        ],\n        \"semantic_type\": \"\",\n        \"description\": \"\"\n      }\n    }\n  ]\n}"
            }
          },
          "metadata": {},
          "execution_count": 2
        }
      ]
    },
    {
      "cell_type": "markdown",
      "source": [
        "- Ao salvar os dados em formato CSV, é possível visualizá-los utilizando a biblioteca Pandas.\n",
        "- Conforme pedido na questão 2, foi extraída as datas de 2019 a 2024.\n",
        "\n",
        "Os códigos representam as seguintes séries:\n",
        "  - SUUR0000SA0 - All Items\n",
        "  - SUUR0000SA0L1E- Less Food and Energy\n",
        "  - CUSR0000SETB01 - Gasoline (all types)\n"
      ],
      "metadata": {
        "id": "1UijLuGekhsV"
      }
    },
    {
      "cell_type": "code",
      "source": [
        "table.shape"
      ],
      "metadata": {
        "colab": {
          "base_uri": "https://localhost:8080/"
        },
        "id": "2XT_8Zf_gDD-",
        "outputId": "5b370020-8080-43cb-a59d-44c4515f4fec"
      },
      "execution_count": 3,
      "outputs": [
        {
          "output_type": "execute_result",
          "data": {
            "text/plain": [
              "(66, 4)"
            ]
          },
          "metadata": {},
          "execution_count": 3
        }
      ]
    },
    {
      "cell_type": "markdown",
      "source": [
        "O dataframe possui 66 linhas e 4 colunas"
      ],
      "metadata": {
        "id": "2N4MywhmlRvT"
      }
    },
    {
      "cell_type": "code",
      "source": [
        "table.info()"
      ],
      "metadata": {
        "colab": {
          "base_uri": "https://localhost:8080/"
        },
        "id": "Rpliz3kCgRdX",
        "outputId": "0a4eb345-4921-444d-a86a-fd2ddbae2741"
      },
      "execution_count": 4,
      "outputs": [
        {
          "output_type": "stream",
          "name": "stdout",
          "text": [
            "<class 'pandas.core.frame.DataFrame'>\n",
            "RangeIndex: 66 entries, 0 to 65\n",
            "Data columns (total 4 columns):\n",
            " #   Column          Non-Null Count  Dtype  \n",
            "---  ------          --------------  -----  \n",
            " 0   date            66 non-null     object \n",
            " 1   SUUR0000SA0     66 non-null     float64\n",
            " 2   SUUR0000SA0L1E  66 non-null     float64\n",
            " 3   CUSR0000SETB01  66 non-null     float64\n",
            "dtypes: float64(3), object(1)\n",
            "memory usage: 2.2+ KB\n"
          ]
        }
      ]
    },
    {
      "cell_type": "markdown",
      "source": [
        "- Através do código acima, é possível verificar os tipos de dados que contém o dataframe.\n",
        "- Não há valores nulos, porém, a coluna \"date\" está como objeto. É necessário transformá-la para datetime."
      ],
      "metadata": {
        "id": "9aM0RuOzlYfj"
      }
    },
    {
      "cell_type": "code",
      "source": [
        "table[\"date\"] = pd.to_datetime(table[\"date\"])\n"
      ],
      "metadata": {
        "id": "tgIcMlLygUfp"
      },
      "execution_count": 5,
      "outputs": []
    },
    {
      "cell_type": "code",
      "source": [
        "table.info()"
      ],
      "metadata": {
        "colab": {
          "base_uri": "https://localhost:8080/"
        },
        "id": "yXye_n1kghdB",
        "outputId": "82de0cfe-4353-429c-abea-6f086fe68b76"
      },
      "execution_count": 6,
      "outputs": [
        {
          "output_type": "stream",
          "name": "stdout",
          "text": [
            "<class 'pandas.core.frame.DataFrame'>\n",
            "RangeIndex: 66 entries, 0 to 65\n",
            "Data columns (total 4 columns):\n",
            " #   Column          Non-Null Count  Dtype         \n",
            "---  ------          --------------  -----         \n",
            " 0   date            66 non-null     datetime64[ns]\n",
            " 1   SUUR0000SA0     66 non-null     float64       \n",
            " 2   SUUR0000SA0L1E  66 non-null     float64       \n",
            " 3   CUSR0000SETB01  66 non-null     float64       \n",
            "dtypes: datetime64[ns](1), float64(3)\n",
            "memory usage: 2.2 KB\n"
          ]
        }
      ]
    },
    {
      "cell_type": "markdown",
      "source": [
        "- Ao realizar a transformação, verifica-se novamente as informações para ver se a coluna realmente foi transformada para datetime."
      ],
      "metadata": {
        "id": "sYiV03wcl6M3"
      }
    },
    {
      "cell_type": "markdown",
      "source": [
        "### Question 2"
      ],
      "metadata": {
        "id": "rKG0iZaw0F2I"
      }
    },
    {
      "cell_type": "code",
      "source": [
        "table.sort_index(inplace=True)"
      ],
      "metadata": {
        "id": "lmYAtRZQ6xzn"
      },
      "execution_count": 7,
      "outputs": []
    },
    {
      "cell_type": "code",
      "source": [
        "import plotly.express as px\n",
        "\n",
        "\n",
        "# Definir a coluna 'date' como índice\n",
        "table.set_index(\"date\", inplace=True)\n",
        "\n",
        "\n",
        "# Cálculo da variação percentual ano-a-ano para cada série\n",
        "change = table.pct_change(periods=1) * 100\n",
        "\n",
        "# Filtragem para remover linhas com valores NaN (que resultam do cálculo de pct_change)\n",
        "change.dropna()\n",
        "\n",
        "# Gráfico da variação percentual\n",
        "fig = px.line(change, x=change.index.strftime(\"%Y-%m\"), y=change.columns,\n",
        "              labels={\"value\": \"Variação Percentual (%)\",\n",
        "                      \"variable\": \"Série\"},\n",
        "              title=\"Variação Percentual das Séries de CPI (Ano a Ano)\")\n",
        "\n",
        "# Ajuste do layout do gráfico\n",
        "fig.update_layout(xaxis_title=\"Data\", yaxis_title=\"Variação Percentual (%)\",\n",
        "                  legend_title_text=\"Série\")\n",
        "\n",
        "# Gráfico\n",
        "fig.show()\n"
      ],
      "metadata": {
        "colab": {
          "base_uri": "https://localhost:8080/",
          "height": 542
        },
        "id": "89X-c1X4-WwR",
        "outputId": "cbc282dc-18d3-4621-ced0-9ee41103a18b"
      },
      "execution_count": 8,
      "outputs": [
        {
          "output_type": "display_data",
          "data": {
            "text/html": [
              "<html>\n",
              "<head><meta charset=\"utf-8\" /></head>\n",
              "<body>\n",
              "    <div>            <script src=\"https://cdnjs.cloudflare.com/ajax/libs/mathjax/2.7.5/MathJax.js?config=TeX-AMS-MML_SVG\"></script><script type=\"text/javascript\">if (window.MathJax && window.MathJax.Hub && window.MathJax.Hub.Config) {window.MathJax.Hub.Config({SVG: {font: \"STIX-Web\"}});}</script>                <script type=\"text/javascript\">window.PlotlyConfig = {MathJaxConfig: 'local'};</script>\n",
              "        <script charset=\"utf-8\" src=\"https://cdn.plot.ly/plotly-2.24.1.min.js\"></script>                <div id=\"47e9bfc4-76bf-400c-843f-d6b29ef17c53\" class=\"plotly-graph-div\" style=\"height:525px; width:100%;\"></div>            <script type=\"text/javascript\">                                    window.PLOTLYENV=window.PLOTLYENV || {};                                    if (document.getElementById(\"47e9bfc4-76bf-400c-843f-d6b29ef17c53\")) {                    Plotly.newPlot(                        \"47e9bfc4-76bf-400c-843f-d6b29ef17c53\",                        [{\"hovertemplate\":\"S\\u00e9rie=SUUR0000SA0\\u003cbr\\u003ex=%{x}\\u003cbr\\u003eVaria\\u00e7\\u00e3o Percentual (%)=%{y}\\u003cextra\\u003e\\u003c\\u002fextra\\u003e\",\"legendgroup\":\"SUUR0000SA0\",\"line\":{\"color\":\"#636efa\",\"dash\":\"solid\"},\"marker\":{\"symbol\":\"circle\"},\"mode\":\"lines\",\"name\":\"SUUR0000SA0\",\"orientation\":\"v\",\"showlegend\":true,\"x\":[\"2024-06\",\"2024-05\",\"2024-04\",\"2024-03\",\"2024-02\",\"2024-01\",\"2023-12\",\"2023-11\",\"2023-10\",\"2023-09\",\"2023-08\",\"2023-07\",\"2023-06\",\"2023-05\",\"2023-04\",\"2023-03\",\"2023-02\",\"2023-01\",\"2022-12\",\"2022-11\",\"2022-10\",\"2022-09\",\"2022-08\",\"2022-07\",\"2022-06\",\"2022-05\",\"2022-04\",\"2022-03\",\"2022-02\",\"2022-01\",\"2021-12\",\"2021-11\",\"2021-10\",\"2021-09\",\"2021-08\",\"2021-07\",\"2021-06\",\"2021-05\",\"2021-04\",\"2021-03\",\"2021-02\",\"2021-01\",\"2020-12\",\"2020-11\",\"2020-10\",\"2020-09\",\"2020-08\",\"2020-07\",\"2020-06\",\"2020-05\",\"2020-04\",\"2020-03\",\"2020-02\",\"2020-01\",\"2019-12\",\"2019-11\",\"2019-10\",\"2019-09\",\"2019-08\",\"2019-07\",\"2019-06\",\"2019-05\",\"2019-04\",\"2019-03\",\"2019-02\",\"2019-01\"],\"xaxis\":\"x\",\"y\":[null,-0.002855054588646322,-0.14561194132124422,-0.3877210238579898,-0.6573282048338069,-0.6402958767950384,-0.5217027166927513,0.11868568755846187,0.22015498443732628,0.0471972963524081,-0.22480940705063013,-0.4372063158509132,-0.1541925119894927,-0.3106228310716719,-0.23442930012840257,-0.5166021160022627,-0.25637830042553045,-0.47718496569860713,-0.7730155978166731,0.31571209948546564,0.0666674674770995,-0.4585586612968151,-0.274955530766674,0.06409132409046503,0.035046376023450954,-1.1706220968511483,-1.1172569752162076,-0.5884279948327076,-1.3790530668076117,-0.9072167548245136,-0.7965491353751908,-0.24883598630117687,-0.42047602515142835,-0.742491154670577,-0.28165532673319893,-0.14677007977769163,-0.5102040816326592,-0.8358777372861836,-0.7409516494285562,-0.7718324516520547,-0.605730574267549,-0.48699651662214016,-0.48734069668650015,-0.1133817824162553,0.09573173233408117,0.023910043584596252,-0.10039817780721494,-0.3575579407944174,-0.6175084221287652,-0.5723280426933264,0.08610034856753046,0.5348892064769517,0.19321937990379734,-0.26172060636533434,-0.38808670492288533,0.1850940374763299,0.07680704133741223,-0.13897627723347128,-0.027695460713983433,0.014544144942774118,-0.11495128419973799,-0.04159647261912092,-0.17824570164305387,-0.4370301404888588,-0.5066400552698247,-0.39980080100440185],\"yaxis\":\"y\",\"type\":\"scatter\"},{\"hovertemplate\":\"S\\u00e9rie=SUUR0000SA0L1E\\u003cbr\\u003ex=%{x}\\u003cbr\\u003eVaria\\u00e7\\u00e3o Percentual (%)=%{y}\\u003cextra\\u003e\\u003c\\u002fextra\\u003e\",\"legendgroup\":\"SUUR0000SA0L1E\",\"line\":{\"color\":\"#EF553B\",\"dash\":\"solid\"},\"marker\":{\"symbol\":\"circle\"},\"mode\":\"lines\",\"name\":\"SUUR0000SA0L1E\",\"orientation\":\"v\",\"showlegend\":true,\"x\":[\"2024-06\",\"2024-05\",\"2024-04\",\"2024-03\",\"2024-02\",\"2024-01\",\"2023-12\",\"2023-11\",\"2023-10\",\"2023-09\",\"2023-08\",\"2023-07\",\"2023-06\",\"2023-05\",\"2023-04\",\"2023-03\",\"2023-02\",\"2023-01\",\"2022-12\",\"2022-11\",\"2022-10\",\"2022-09\",\"2022-08\",\"2022-07\",\"2022-06\",\"2022-05\",\"2022-04\",\"2022-03\",\"2022-02\",\"2022-01\",\"2021-12\",\"2021-11\",\"2021-10\",\"2021-09\",\"2021-08\",\"2021-07\",\"2021-06\",\"2021-05\",\"2021-04\",\"2021-03\",\"2021-02\",\"2021-01\",\"2020-12\",\"2020-11\",\"2020-10\",\"2020-09\",\"2020-08\",\"2020-07\",\"2020-06\",\"2020-05\",\"2020-04\",\"2020-03\",\"2020-02\",\"2020-01\",\"2019-12\",\"2019-11\",\"2019-10\",\"2019-09\",\"2019-08\",\"2019-07\",\"2019-06\",\"2019-05\",\"2019-04\",\"2019-03\",\"2019-02\",\"2019-01\"],\"xaxis\":\"x\",\"y\":[null,-0.09929888965786171,-0.18433734939760082,-0.2637391818653523,-0.513140139298196,-0.5729613342335127,-0.5371114659227905,-0.07872611308267219,-0.03816300527511585,-0.1582522059864977,-0.20784250841854313,-0.24350298198448916,-0.11461424562142497,-0.2505799312765955,-0.361268980612095,-0.48177432741933757,-0.41575478619667594,-0.6101784567333901,-0.584780501403348,-0.1261837694533141,-0.11740983690241569,-0.35328239593181987,-0.4930150853640569,-0.43747181238322774,-0.2433168749312431,-0.577340987966668,-0.6315858154177345,-0.576505118288595,-0.4504058275381695,-0.6813191187299616,-0.7107073675773345,-0.32358758392422304,-0.3462356156987201,-0.5479099504239637,-0.16412086377967094,-0.07162248809702287,-0.39591254428419376,-0.7517972546036478,-0.6594393039635271,-0.7701664755152438,-0.29840918483858836,-0.2929790418109923,-0.2980678439054474,0.055127181234126965,-0.02613566529393596,-0.02260972783540982,-0.0911660777385137,-0.4442212334920259,-0.6643314409952916,-0.2217326619363691,0.2430142367632504,0.3697161695402684,-0.0149621670917921,-0.4517825458017599,-0.39298778087173414,0.19547251167804092,0.020082913743868502,-0.10684833273574279,-0.05312237528802832,-0.1788446206554717,-0.09282044640159803,-0.2153418461782075,-0.08444604835801117,-0.15819927329465688,-0.23369557353091208,-0.36260524617269807],\"yaxis\":\"y\",\"type\":\"scatter\"},{\"hovertemplate\":\"S\\u00e9rie=CUSR0000SETB01\\u003cbr\\u003ex=%{x}\\u003cbr\\u003eVaria\\u00e7\\u00e3o Percentual (%)=%{y}\\u003cextra\\u003e\\u003c\\u002fextra\\u003e\",\"legendgroup\":\"CUSR0000SETB01\",\"line\":{\"color\":\"#00cc96\",\"dash\":\"solid\"},\"marker\":{\"symbol\":\"circle\"},\"mode\":\"lines\",\"name\":\"CUSR0000SETB01\",\"orientation\":\"v\",\"showlegend\":true,\"x\":[\"2024-06\",\"2024-05\",\"2024-04\",\"2024-03\",\"2024-02\",\"2024-01\",\"2023-12\",\"2023-11\",\"2023-10\",\"2023-09\",\"2023-08\",\"2023-07\",\"2023-06\",\"2023-05\",\"2023-04\",\"2023-03\",\"2023-02\",\"2023-01\",\"2022-12\",\"2022-11\",\"2022-10\",\"2022-09\",\"2022-08\",\"2022-07\",\"2022-06\",\"2022-05\",\"2022-04\",\"2022-03\",\"2022-02\",\"2022-01\",\"2021-12\",\"2021-11\",\"2021-10\",\"2021-09\",\"2021-08\",\"2021-07\",\"2021-06\",\"2021-05\",\"2021-04\",\"2021-03\",\"2021-02\",\"2021-01\",\"2020-12\",\"2020-11\",\"2020-10\",\"2020-09\",\"2020-08\",\"2020-07\",\"2020-06\",\"2020-05\",\"2020-04\",\"2020-03\",\"2020-02\",\"2020-01\",\"2019-12\",\"2019-11\",\"2019-10\",\"2019-09\",\"2019-08\",\"2019-07\",\"2019-06\",\"2019-05\",\"2019-04\",\"2019-03\",\"2019-02\",\"2019-01\"],\"xaxis\":\"x\",\"y\":[null,3.943139594803502,3.7792034546753284,-2.70250733847498,-1.7071130247717003,-3.619759318045901,3.3942861429248516,0.5737991439180634,4.162868628312477,4.514319531097533,-1.5643683042235623,-7.661898569570869,0.20809585663918995,-0.7836990595611271,4.74733537304779,-2.72936115512622,3.6296073377209526,-1.132877110137498,-1.5941126702105568,8.363127875362576,0.3419171913688457,-3.7082899436356676,5.058364553023886,11.516442158230532,8.966837881729361,-9.418812381063335,-4.061578862747195,3.6184826114523228,-12.948746286841818,-4.900895209960954,1.6199196389614423,-2.9818417182278067,-5.884412268852612,-4.086452418885056,-0.9776050870588193,-2.517652014232463,-2.3317603805408593,-2.5694360900796687,-0.7137679139017417,0.8781642395795597,-7.162599071816878,-6.641307700215904,-4.727819990456261,-7.7942592949335365,-0.5066438241684734,1.1460159801770287,-1.1309551614426816,-1.8620400020998407,-5.151837725937858,-9.346237141310231,3.670523827298733,23.662385981757094,11.481479684186514,3.1114651483691746,3.0893409715508913,-2.9783330671547925,-1.9314210464115078,-1.7723414877683585,0.6589843578846066,2.334874245866958,-1.4491828939421025,4.6898671074836695,1.2755764624397647,-6.365941925740182,-5.554468660467027,-3.915999576499407],\"yaxis\":\"y\",\"type\":\"scatter\"}],                        {\"template\":{\"data\":{\"histogram2dcontour\":[{\"type\":\"histogram2dcontour\",\"colorbar\":{\"outlinewidth\":0,\"ticks\":\"\"},\"colorscale\":[[0.0,\"#0d0887\"],[0.1111111111111111,\"#46039f\"],[0.2222222222222222,\"#7201a8\"],[0.3333333333333333,\"#9c179e\"],[0.4444444444444444,\"#bd3786\"],[0.5555555555555556,\"#d8576b\"],[0.6666666666666666,\"#ed7953\"],[0.7777777777777778,\"#fb9f3a\"],[0.8888888888888888,\"#fdca26\"],[1.0,\"#f0f921\"]]}],\"choropleth\":[{\"type\":\"choropleth\",\"colorbar\":{\"outlinewidth\":0,\"ticks\":\"\"}}],\"histogram2d\":[{\"type\":\"histogram2d\",\"colorbar\":{\"outlinewidth\":0,\"ticks\":\"\"},\"colorscale\":[[0.0,\"#0d0887\"],[0.1111111111111111,\"#46039f\"],[0.2222222222222222,\"#7201a8\"],[0.3333333333333333,\"#9c179e\"],[0.4444444444444444,\"#bd3786\"],[0.5555555555555556,\"#d8576b\"],[0.6666666666666666,\"#ed7953\"],[0.7777777777777778,\"#fb9f3a\"],[0.8888888888888888,\"#fdca26\"],[1.0,\"#f0f921\"]]}],\"heatmap\":[{\"type\":\"heatmap\",\"colorbar\":{\"outlinewidth\":0,\"ticks\":\"\"},\"colorscale\":[[0.0,\"#0d0887\"],[0.1111111111111111,\"#46039f\"],[0.2222222222222222,\"#7201a8\"],[0.3333333333333333,\"#9c179e\"],[0.4444444444444444,\"#bd3786\"],[0.5555555555555556,\"#d8576b\"],[0.6666666666666666,\"#ed7953\"],[0.7777777777777778,\"#fb9f3a\"],[0.8888888888888888,\"#fdca26\"],[1.0,\"#f0f921\"]]}],\"heatmapgl\":[{\"type\":\"heatmapgl\",\"colorbar\":{\"outlinewidth\":0,\"ticks\":\"\"},\"colorscale\":[[0.0,\"#0d0887\"],[0.1111111111111111,\"#46039f\"],[0.2222222222222222,\"#7201a8\"],[0.3333333333333333,\"#9c179e\"],[0.4444444444444444,\"#bd3786\"],[0.5555555555555556,\"#d8576b\"],[0.6666666666666666,\"#ed7953\"],[0.7777777777777778,\"#fb9f3a\"],[0.8888888888888888,\"#fdca26\"],[1.0,\"#f0f921\"]]}],\"contourcarpet\":[{\"type\":\"contourcarpet\",\"colorbar\":{\"outlinewidth\":0,\"ticks\":\"\"}}],\"contour\":[{\"type\":\"contour\",\"colorbar\":{\"outlinewidth\":0,\"ticks\":\"\"},\"colorscale\":[[0.0,\"#0d0887\"],[0.1111111111111111,\"#46039f\"],[0.2222222222222222,\"#7201a8\"],[0.3333333333333333,\"#9c179e\"],[0.4444444444444444,\"#bd3786\"],[0.5555555555555556,\"#d8576b\"],[0.6666666666666666,\"#ed7953\"],[0.7777777777777778,\"#fb9f3a\"],[0.8888888888888888,\"#fdca26\"],[1.0,\"#f0f921\"]]}],\"surface\":[{\"type\":\"surface\",\"colorbar\":{\"outlinewidth\":0,\"ticks\":\"\"},\"colorscale\":[[0.0,\"#0d0887\"],[0.1111111111111111,\"#46039f\"],[0.2222222222222222,\"#7201a8\"],[0.3333333333333333,\"#9c179e\"],[0.4444444444444444,\"#bd3786\"],[0.5555555555555556,\"#d8576b\"],[0.6666666666666666,\"#ed7953\"],[0.7777777777777778,\"#fb9f3a\"],[0.8888888888888888,\"#fdca26\"],[1.0,\"#f0f921\"]]}],\"mesh3d\":[{\"type\":\"mesh3d\",\"colorbar\":{\"outlinewidth\":0,\"ticks\":\"\"}}],\"scatter\":[{\"fillpattern\":{\"fillmode\":\"overlay\",\"size\":10,\"solidity\":0.2},\"type\":\"scatter\"}],\"parcoords\":[{\"type\":\"parcoords\",\"line\":{\"colorbar\":{\"outlinewidth\":0,\"ticks\":\"\"}}}],\"scatterpolargl\":[{\"type\":\"scatterpolargl\",\"marker\":{\"colorbar\":{\"outlinewidth\":0,\"ticks\":\"\"}}}],\"bar\":[{\"error_x\":{\"color\":\"#2a3f5f\"},\"error_y\":{\"color\":\"#2a3f5f\"},\"marker\":{\"line\":{\"color\":\"#E5ECF6\",\"width\":0.5},\"pattern\":{\"fillmode\":\"overlay\",\"size\":10,\"solidity\":0.2}},\"type\":\"bar\"}],\"scattergeo\":[{\"type\":\"scattergeo\",\"marker\":{\"colorbar\":{\"outlinewidth\":0,\"ticks\":\"\"}}}],\"scatterpolar\":[{\"type\":\"scatterpolar\",\"marker\":{\"colorbar\":{\"outlinewidth\":0,\"ticks\":\"\"}}}],\"histogram\":[{\"marker\":{\"pattern\":{\"fillmode\":\"overlay\",\"size\":10,\"solidity\":0.2}},\"type\":\"histogram\"}],\"scattergl\":[{\"type\":\"scattergl\",\"marker\":{\"colorbar\":{\"outlinewidth\":0,\"ticks\":\"\"}}}],\"scatter3d\":[{\"type\":\"scatter3d\",\"line\":{\"colorbar\":{\"outlinewidth\":0,\"ticks\":\"\"}},\"marker\":{\"colorbar\":{\"outlinewidth\":0,\"ticks\":\"\"}}}],\"scattermapbox\":[{\"type\":\"scattermapbox\",\"marker\":{\"colorbar\":{\"outlinewidth\":0,\"ticks\":\"\"}}}],\"scatterternary\":[{\"type\":\"scatterternary\",\"marker\":{\"colorbar\":{\"outlinewidth\":0,\"ticks\":\"\"}}}],\"scattercarpet\":[{\"type\":\"scattercarpet\",\"marker\":{\"colorbar\":{\"outlinewidth\":0,\"ticks\":\"\"}}}],\"carpet\":[{\"aaxis\":{\"endlinecolor\":\"#2a3f5f\",\"gridcolor\":\"white\",\"linecolor\":\"white\",\"minorgridcolor\":\"white\",\"startlinecolor\":\"#2a3f5f\"},\"baxis\":{\"endlinecolor\":\"#2a3f5f\",\"gridcolor\":\"white\",\"linecolor\":\"white\",\"minorgridcolor\":\"white\",\"startlinecolor\":\"#2a3f5f\"},\"type\":\"carpet\"}],\"table\":[{\"cells\":{\"fill\":{\"color\":\"#EBF0F8\"},\"line\":{\"color\":\"white\"}},\"header\":{\"fill\":{\"color\":\"#C8D4E3\"},\"line\":{\"color\":\"white\"}},\"type\":\"table\"}],\"barpolar\":[{\"marker\":{\"line\":{\"color\":\"#E5ECF6\",\"width\":0.5},\"pattern\":{\"fillmode\":\"overlay\",\"size\":10,\"solidity\":0.2}},\"type\":\"barpolar\"}],\"pie\":[{\"automargin\":true,\"type\":\"pie\"}]},\"layout\":{\"autotypenumbers\":\"strict\",\"colorway\":[\"#636efa\",\"#EF553B\",\"#00cc96\",\"#ab63fa\",\"#FFA15A\",\"#19d3f3\",\"#FF6692\",\"#B6E880\",\"#FF97FF\",\"#FECB52\"],\"font\":{\"color\":\"#2a3f5f\"},\"hovermode\":\"closest\",\"hoverlabel\":{\"align\":\"left\"},\"paper_bgcolor\":\"white\",\"plot_bgcolor\":\"#E5ECF6\",\"polar\":{\"bgcolor\":\"#E5ECF6\",\"angularaxis\":{\"gridcolor\":\"white\",\"linecolor\":\"white\",\"ticks\":\"\"},\"radialaxis\":{\"gridcolor\":\"white\",\"linecolor\":\"white\",\"ticks\":\"\"}},\"ternary\":{\"bgcolor\":\"#E5ECF6\",\"aaxis\":{\"gridcolor\":\"white\",\"linecolor\":\"white\",\"ticks\":\"\"},\"baxis\":{\"gridcolor\":\"white\",\"linecolor\":\"white\",\"ticks\":\"\"},\"caxis\":{\"gridcolor\":\"white\",\"linecolor\":\"white\",\"ticks\":\"\"}},\"coloraxis\":{\"colorbar\":{\"outlinewidth\":0,\"ticks\":\"\"}},\"colorscale\":{\"sequential\":[[0.0,\"#0d0887\"],[0.1111111111111111,\"#46039f\"],[0.2222222222222222,\"#7201a8\"],[0.3333333333333333,\"#9c179e\"],[0.4444444444444444,\"#bd3786\"],[0.5555555555555556,\"#d8576b\"],[0.6666666666666666,\"#ed7953\"],[0.7777777777777778,\"#fb9f3a\"],[0.8888888888888888,\"#fdca26\"],[1.0,\"#f0f921\"]],\"sequentialminus\":[[0.0,\"#0d0887\"],[0.1111111111111111,\"#46039f\"],[0.2222222222222222,\"#7201a8\"],[0.3333333333333333,\"#9c179e\"],[0.4444444444444444,\"#bd3786\"],[0.5555555555555556,\"#d8576b\"],[0.6666666666666666,\"#ed7953\"],[0.7777777777777778,\"#fb9f3a\"],[0.8888888888888888,\"#fdca26\"],[1.0,\"#f0f921\"]],\"diverging\":[[0,\"#8e0152\"],[0.1,\"#c51b7d\"],[0.2,\"#de77ae\"],[0.3,\"#f1b6da\"],[0.4,\"#fde0ef\"],[0.5,\"#f7f7f7\"],[0.6,\"#e6f5d0\"],[0.7,\"#b8e186\"],[0.8,\"#7fbc41\"],[0.9,\"#4d9221\"],[1,\"#276419\"]]},\"xaxis\":{\"gridcolor\":\"white\",\"linecolor\":\"white\",\"ticks\":\"\",\"title\":{\"standoff\":15},\"zerolinecolor\":\"white\",\"automargin\":true,\"zerolinewidth\":2},\"yaxis\":{\"gridcolor\":\"white\",\"linecolor\":\"white\",\"ticks\":\"\",\"title\":{\"standoff\":15},\"zerolinecolor\":\"white\",\"automargin\":true,\"zerolinewidth\":2},\"scene\":{\"xaxis\":{\"backgroundcolor\":\"#E5ECF6\",\"gridcolor\":\"white\",\"linecolor\":\"white\",\"showbackground\":true,\"ticks\":\"\",\"zerolinecolor\":\"white\",\"gridwidth\":2},\"yaxis\":{\"backgroundcolor\":\"#E5ECF6\",\"gridcolor\":\"white\",\"linecolor\":\"white\",\"showbackground\":true,\"ticks\":\"\",\"zerolinecolor\":\"white\",\"gridwidth\":2},\"zaxis\":{\"backgroundcolor\":\"#E5ECF6\",\"gridcolor\":\"white\",\"linecolor\":\"white\",\"showbackground\":true,\"ticks\":\"\",\"zerolinecolor\":\"white\",\"gridwidth\":2}},\"shapedefaults\":{\"line\":{\"color\":\"#2a3f5f\"}},\"annotationdefaults\":{\"arrowcolor\":\"#2a3f5f\",\"arrowhead\":0,\"arrowwidth\":1},\"geo\":{\"bgcolor\":\"white\",\"landcolor\":\"#E5ECF6\",\"subunitcolor\":\"white\",\"showland\":true,\"showlakes\":true,\"lakecolor\":\"white\"},\"title\":{\"x\":0.05},\"mapbox\":{\"style\":\"light\"}}},\"xaxis\":{\"anchor\":\"y\",\"domain\":[0.0,1.0],\"title\":{\"text\":\"Data\"}},\"yaxis\":{\"anchor\":\"x\",\"domain\":[0.0,1.0],\"title\":{\"text\":\"Varia\\u00e7\\u00e3o Percentual (%)\"}},\"legend\":{\"title\":{\"text\":\"S\\u00e9rie\"},\"tracegroupgap\":0},\"title\":{\"text\":\"Varia\\u00e7\\u00e3o Percentual das S\\u00e9ries de CPI (Ano a Ano)\"}},                        {\"responsive\": true}                    ).then(function(){\n",
              "                            \n",
              "var gd = document.getElementById('47e9bfc4-76bf-400c-843f-d6b29ef17c53');\n",
              "var x = new MutationObserver(function (mutations, observer) {{\n",
              "        var display = window.getComputedStyle(gd).display;\n",
              "        if (!display || display === 'none') {{\n",
              "            console.log([gd, 'removed!']);\n",
              "            Plotly.purge(gd);\n",
              "            observer.disconnect();\n",
              "        }}\n",
              "}});\n",
              "\n",
              "// Listen for the removal of the full notebook cells\n",
              "var notebookContainer = gd.closest('#notebook-container');\n",
              "if (notebookContainer) {{\n",
              "    x.observe(notebookContainer, {childList: true});\n",
              "}}\n",
              "\n",
              "// Listen for the clearing of the current output cell\n",
              "var outputEl = gd.closest('.output');\n",
              "if (outputEl) {{\n",
              "    x.observe(outputEl, {childList: true});\n",
              "}}\n",
              "\n",
              "                        })                };                            </script>        </div>\n",
              "</body>\n",
              "</html>"
            ]
          },
          "metadata": {}
        }
      ]
    },
    {
      "cell_type": "markdown",
      "source": [
        "### Question 3:\n",
        "\n",
        "- Para realizar as automatizações, pode-se utilizar a biblioteca BeautifulSoup.\n",
        "\n",
        "- Pode-se utilizar um serviço como o cron no Linux ou o Agendador de tarefas no Windows para agendar a execução do script de coleta de dados a fim de atualizar os dados automaticamente.\n",
        "\n",
        "- Para realizar o gerenciamento de histórico, é preciso armazenar os dados extraídos num banco de dados ou repositório para análise histórica e acompanhamento de tendências ao longo do tempo."
      ],
      "metadata": {
        "id": "-4-lNHl5Lq8g"
      }
    },
    {
      "cell_type": "markdown",
      "source": [
        "### Question 4\n",
        "\n"
      ],
      "metadata": {
        "id": "G5KIcq0Jb8le"
      }
    },
    {
      "cell_type": "markdown",
      "source": [
        "\n",
        "- A correlação mede o grau de dependência entre variáveis da tabela, dessa maneira, é possível saber o quanto uma variável interfere na através do cálculo da correlação entre as colunas \"All Items\" e \"Gasoline\".\n",
        "- Nesse caso, o gráfico de dispersão é o que melhor se adequa para visualizar o relacionamento entre essas duas variáveis."
      ],
      "metadata": {
        "id": "xVK23ZuyfMOf"
      }
    },
    {
      "cell_type": "code",
      "source": [
        "import matplotlib.pyplot as plt\n",
        "\n",
        "# Calculo da correlação\n",
        "correlacao = table[\"SUUR0000SA0\"].corr(table[\"CUSR0000SETB01\"])\n",
        "print(f\"Correlação entre All items e Gasoline: {correlacao:.2f}\")"
      ],
      "metadata": {
        "colab": {
          "base_uri": "https://localhost:8080/"
        },
        "id": "Wv3kUnxicCwx",
        "outputId": "83866431-7c1c-4b10-c0af-2967b8f32954"
      },
      "execution_count": 9,
      "outputs": [
        {
          "output_type": "stream",
          "name": "stdout",
          "text": [
            "Correlação entre All items e Gasoline: 0.81\n"
          ]
        }
      ]
    },
    {
      "cell_type": "markdown",
      "source": [
        "- O cálculo mostra uma correlação positiva forte, apresentando resultado de 0.81."
      ],
      "metadata": {
        "id": "1k0GFNBogaYy"
      }
    },
    {
      "cell_type": "code",
      "source": [
        "# Gráfico de dispersão\n",
        "\n",
        "plt.scatter(table[\"SUUR0000SA0\"], table[\"CUSR0000SETB01\"])\n",
        "plt.xlabel(\"CPI All items\")\n",
        "plt.ylabel(\"CPI Gasoline (all types)\")\n",
        "plt.title(\"Correlação entre All Items e Gasoline\")\n",
        "plt.show()"
      ],
      "metadata": {
        "colab": {
          "base_uri": "https://localhost:8080/",
          "height": 472
        },
        "id": "RPgshd8LevoW",
        "outputId": "7c7a7c75-868e-46dc-a436-f9be7a2139fd"
      },
      "execution_count": 10,
      "outputs": [
        {
          "output_type": "display_data",
          "data": {
            "text/plain": [
              "<Figure size 640x480 with 1 Axes>"
            ],
            "image/png": "[encoded data removed]"
          },
          "metadata": {}
        }
      ]
    },
    {
      "cell_type": "markdown",
      "source": [
        "### Bonus Question"
      ],
      "metadata": {
        "id": "bKqcxO1Eg0Ai"
      }
    },
    {
      "cell_type": "code",
      "source": [
        "! pip install fastapi"
      ],
      "metadata": {
        "colab": {
          "base_uri": "https://localhost:8080/"
        },
        "id": "VdzlrDbXkR-y",
        "outputId": "da4d8b82-75d2-45c6-f82e-35b445af2ba3"
      },
      "execution_count": 11,
      "outputs": [
        {
          "output_type": "stream",
          "name": "stdout",
          "text": [
            "Requirement already satisfied: fastapi in /usr/local/lib/python3.10/dist-packages (0.111.1)\n",
            "Requirement already satisfied: starlette<0.38.0,>=0.37.2 in /usr/local/lib/python3.10/dist-packages (from fastapi) (0.37.2)\n",
            "Requirement already satisfied: pydantic!=1.8,!=1.8.1,!=2.0.0,!=2.0.1,!=2.1.0,<3.0.0,>=1.7.4 in /usr/local/lib/python3.10/dist-packages (from fastapi) (2.8.2)\n",
            "Requirement already satisfied: typing-extensions>=4.8.0 in /usr/local/lib/python3.10/dist-packages (from fastapi) (4.12.2)\n",
            "Requirement already satisfied: fastapi-cli>=0.0.2 in /usr/local/lib/python3.10/dist-packages (from fastapi) (0.0.4)\n",
            "Requirement already satisfied: httpx>=0.23.0 in /usr/local/lib/python3.10/dist-packages (from fastapi) (0.27.0)\n",
            "Requirement already satisfied: jinja2>=2.11.2 in /usr/local/lib/python3.10/dist-packages (from fastapi) (3.1.4)\n",
            "Requirement already satisfied: python-multipart>=0.0.7 in /usr/local/lib/python3.10/dist-packages (from fastapi) (0.0.9)\n",
            "Requirement already satisfied: email_validator>=2.0.0 in /usr/local/lib/python3.10/dist-packages (from fastapi) (2.2.0)\n",
            "Requirement already satisfied: uvicorn>=0.12.0 in /usr/local/lib/python3.10/dist-packages (from uvicorn[standard]>=0.12.0->fastapi) (0.30.3)\n",
            "Requirement already satisfied: dnspython>=2.0.0 in /usr/local/lib/python3.10/dist-packages (from email_validator>=2.0.0->fastapi) (2.6.1)\n",
            "Requirement already satisfied: idna>=2.0.0 in /usr/local/lib/python3.10/dist-packages (from email_validator>=2.0.0->fastapi) (3.7)\n",
            "Requirement already satisfied: typer>=0.12.3 in /usr/local/lib/python3.10/dist-packages (from fastapi-cli>=0.0.2->fastapi) (0.12.3)\n",
            "Requirement already satisfied: anyio in /usr/local/lib/python3.10/dist-packages (from httpx>=0.23.0->fastapi) (3.7.1)\n",
            "Requirement already satisfied: certifi in /usr/local/lib/python3.10/dist-packages (from httpx>=0.23.0->fastapi) (2024.7.4)\n",
            "Requirement already satisfied: httpcore==1.* in /usr/local/lib/python3.10/dist-packages (from httpx>=0.23.0->fastapi) (1.0.5)\n",
            "Requirement already satisfied: sniffio in /usr/local/lib/python3.10/dist-packages (from httpx>=0.23.0->fastapi) (1.3.1)\n",
            "Requirement already satisfied: h11<0.15,>=0.13 in /usr/local/lib/python3.10/dist-packages (from httpcore==1.*->httpx>=0.23.0->fastapi) (0.14.0)\n",
            "Requirement already satisfied: MarkupSafe>=2.0 in /usr/local/lib/python3.10/dist-packages (from jinja2>=2.11.2->fastapi) (2.1.5)\n",
            "Requirement already satisfied: annotated-types>=0.4.0 in /usr/local/lib/python3.10/dist-packages (from pydantic!=1.8,!=1.8.1,!=2.0.0,!=2.0.1,!=2.1.0,<3.0.0,>=1.7.4->fastapi) (0.7.0)\n",
            "Requirement already satisfied: pydantic-core==2.20.1 in /usr/local/lib/python3.10/dist-packages (from pydantic!=1.8,!=1.8.1,!=2.0.0,!=2.0.1,!=2.1.0,<3.0.0,>=1.7.4->fastapi) (2.20.1)\n",
            "Requirement already satisfied: click>=7.0 in /usr/local/lib/python3.10/dist-packages (from uvicorn>=0.12.0->uvicorn[standard]>=0.12.0->fastapi) (8.1.7)\n",
            "Requirement already satisfied: httptools>=0.5.0 in /usr/local/lib/python3.10/dist-packages (from uvicorn[standard]>=0.12.0->fastapi) (0.6.1)\n",
            "Requirement already satisfied: python-dotenv>=0.13 in /usr/local/lib/python3.10/dist-packages (from uvicorn[standard]>=0.12.0->fastapi) (1.0.1)\n",
            "Requirement already satisfied: pyyaml>=5.1 in /usr/local/lib/python3.10/dist-packages (from uvicorn[standard]>=0.12.0->fastapi) (6.0.1)\n",
            "Requirement already satisfied: uvloop!=0.15.0,!=0.15.1,>=0.14.0 in /usr/local/lib/python3.10/dist-packages (from uvicorn[standard]>=0.12.0->fastapi) (0.19.0)\n",
            "Requirement already satisfied: watchfiles>=0.13 in /usr/local/lib/python3.10/dist-packages (from uvicorn[standard]>=0.12.0->fastapi) (0.22.0)\n",
            "Requirement already satisfied: websockets>=10.4 in /usr/local/lib/python3.10/dist-packages (from uvicorn[standard]>=0.12.0->fastapi) (12.0)\n",
            "Requirement already satisfied: exceptiongroup in /usr/local/lib/python3.10/dist-packages (from anyio->httpx>=0.23.0->fastapi) (1.2.2)\n",
            "Requirement already satisfied: shellingham>=1.3.0 in /usr/local/lib/python3.10/dist-packages (from typer>=0.12.3->fastapi-cli>=0.0.2->fastapi) (1.5.4)\n",
            "Requirement already satisfied: rich>=10.11.0 in /usr/local/lib/python3.10/dist-packages (from typer>=0.12.3->fastapi-cli>=0.0.2->fastapi) (13.7.1)\n",
            "Requirement already satisfied: markdown-it-py>=2.2.0 in /usr/local/lib/python3.10/dist-packages (from rich>=10.11.0->typer>=0.12.3->fastapi-cli>=0.0.2->fastapi) (3.0.0)\n",
            "Requirement already satisfied: pygments<3.0.0,>=2.13.0 in /usr/local/lib/python3.10/dist-packages (from rich>=10.11.0->typer>=0.12.3->fastapi-cli>=0.0.2->fastapi) (2.16.1)\n",
            "Requirement already satisfied: mdurl~=0.1 in /usr/local/lib/python3.10/dist-packages (from markdown-it-py>=2.2.0->rich>=10.11.0->typer>=0.12.3->fastapi-cli>=0.0.2->fastapi) (0.1.2)\n"
          ]
        }
      ]
    },
    {
      "cell_type": "code",
      "source": [
        "from fastapi import FastAPI\n",
        "import uvicorn\n",
        "import nest_asyncio\n",
        "\n",
        "app = FastAPI()\n",
        "\n",
        "@app.get('/data')\n",
        "def get_data():\n",
        "    return table.to_dict(orient='index')\n",
        "\n",
        "# Rodar a aplicação\n",
        "if __name__ == '__main__':\n",
        "\n",
        "    # Patch que permite o uso de uvicorn.run num notebook\n",
        "    nest_asyncio.apply()\n",
        "    uvicorn.run(app, host=\"127.0.0.1\", port=8000)"
      ],
      "metadata": {
        "colab": {
          "base_uri": "https://localhost:8080/"
        },
        "id": "2x55rNexhGZz",
        "outputId": "338de77a-dcdf-4b7f-f1ca-e8c04baff3f0"
      },
      "execution_count": 12,
      "outputs": [
        {
          "output_type": "stream",
          "name": "stderr",
          "text": [
            "INFO:     Started server process [79017]\n",
            "INFO:     Waiting for application startup.\n",
            "INFO:     Application startup complete.\n",
            "INFO:     Uvicorn running on http://127.0.0.1:8000 (Press CTRL+C to quit)\n",
            "INFO:     Shutting down\n",
            "INFO:     Waiting for application shutdown.\n",
            "INFO:     Application shutdown complete.\n",
            "INFO:     Finished server process [79017]\n"
          ]
        }
      ]
    }
  ]
}